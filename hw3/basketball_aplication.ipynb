{
 "cells": [
  {
   "cell_type": "code",
   "execution_count": 1,
   "metadata": {},
   "outputs": [],
   "source": [
    "import numpy as np\n",
    "import matplotlib.pyplot as plt\n",
    "import seaborn as sns\n",
    "import pandas as pd\n",
    "import os\n",
    "\n",
    "from sklearn import preprocessing\n",
    "import sklearn.linear_model as sklm\n",
    "import sklearn.model_selection as skms\n",
    "import solution\n",
    "import statsmodels.api as sm\n",
    "from sklearn.utils import resample\n",
    "from sklearn.metrics import log_loss"
   ]
  },
  {
   "cell_type": "code",
   "execution_count": 2,
   "metadata": {},
   "outputs": [],
   "source": [
    "sns.set()"
   ]
  },
  {
   "cell_type": "code",
   "execution_count": 3,
   "metadata": {},
   "outputs": [
    {
     "data": {
      "text/html": [
       "<div>\n",
       "<style scoped>\n",
       "    .dataframe tbody tr th:only-of-type {\n",
       "        vertical-align: middle;\n",
       "    }\n",
       "\n",
       "    .dataframe tbody tr th {\n",
       "        vertical-align: top;\n",
       "    }\n",
       "\n",
       "    .dataframe thead th {\n",
       "        text-align: right;\n",
       "    }\n",
       "</style>\n",
       "<table border=\"1\" class=\"dataframe\">\n",
       "  <thead>\n",
       "    <tr style=\"text-align: right;\">\n",
       "      <th></th>\n",
       "      <th>ShotType</th>\n",
       "      <th>Competition</th>\n",
       "      <th>PlayerType</th>\n",
       "      <th>Transition</th>\n",
       "      <th>TwoLegged</th>\n",
       "      <th>Movement</th>\n",
       "      <th>Angle</th>\n",
       "      <th>Distance</th>\n",
       "    </tr>\n",
       "  </thead>\n",
       "  <tbody>\n",
       "    <tr>\n",
       "      <th>0</th>\n",
       "      <td>above head</td>\n",
       "      <td>U14</td>\n",
       "      <td>F</td>\n",
       "      <td>1</td>\n",
       "      <td>1</td>\n",
       "      <td>no</td>\n",
       "      <td>73.83</td>\n",
       "      <td>0.73</td>\n",
       "    </tr>\n",
       "    <tr>\n",
       "      <th>1</th>\n",
       "      <td>layup</td>\n",
       "      <td>U14</td>\n",
       "      <td>F</td>\n",
       "      <td>0</td>\n",
       "      <td>1</td>\n",
       "      <td>no</td>\n",
       "      <td>28.13</td>\n",
       "      <td>1.02</td>\n",
       "    </tr>\n",
       "    <tr>\n",
       "      <th>2</th>\n",
       "      <td>above head</td>\n",
       "      <td>U14</td>\n",
       "      <td>F</td>\n",
       "      <td>0</td>\n",
       "      <td>1</td>\n",
       "      <td>no</td>\n",
       "      <td>51.88</td>\n",
       "      <td>7.22</td>\n",
       "    </tr>\n",
       "    <tr>\n",
       "      <th>3</th>\n",
       "      <td>above head</td>\n",
       "      <td>U14</td>\n",
       "      <td>F</td>\n",
       "      <td>1</td>\n",
       "      <td>1</td>\n",
       "      <td>no</td>\n",
       "      <td>80.84</td>\n",
       "      <td>3.64</td>\n",
       "    </tr>\n",
       "    <tr>\n",
       "      <th>4</th>\n",
       "      <td>above head</td>\n",
       "      <td>U14</td>\n",
       "      <td>F</td>\n",
       "      <td>0</td>\n",
       "      <td>1</td>\n",
       "      <td>no</td>\n",
       "      <td>30.89</td>\n",
       "      <td>7.20</td>\n",
       "    </tr>\n",
       "    <tr>\n",
       "      <th>...</th>\n",
       "      <td>...</td>\n",
       "      <td>...</td>\n",
       "      <td>...</td>\n",
       "      <td>...</td>\n",
       "      <td>...</td>\n",
       "      <td>...</td>\n",
       "      <td>...</td>\n",
       "      <td>...</td>\n",
       "    </tr>\n",
       "    <tr>\n",
       "      <th>5019</th>\n",
       "      <td>layup</td>\n",
       "      <td>EURO</td>\n",
       "      <td>C</td>\n",
       "      <td>0</td>\n",
       "      <td>1</td>\n",
       "      <td>no</td>\n",
       "      <td>0.00</td>\n",
       "      <td>0.52</td>\n",
       "    </tr>\n",
       "    <tr>\n",
       "      <th>5020</th>\n",
       "      <td>above head</td>\n",
       "      <td>EURO</td>\n",
       "      <td>C</td>\n",
       "      <td>0</td>\n",
       "      <td>1</td>\n",
       "      <td>no</td>\n",
       "      <td>60.91</td>\n",
       "      <td>4.29</td>\n",
       "    </tr>\n",
       "    <tr>\n",
       "      <th>5021</th>\n",
       "      <td>hook shot</td>\n",
       "      <td>EURO</td>\n",
       "      <td>C</td>\n",
       "      <td>0</td>\n",
       "      <td>1</td>\n",
       "      <td>no</td>\n",
       "      <td>26.86</td>\n",
       "      <td>0.83</td>\n",
       "    </tr>\n",
       "    <tr>\n",
       "      <th>5022</th>\n",
       "      <td>above head</td>\n",
       "      <td>EURO</td>\n",
       "      <td>C</td>\n",
       "      <td>0</td>\n",
       "      <td>1</td>\n",
       "      <td>no</td>\n",
       "      <td>3.42</td>\n",
       "      <td>5.38</td>\n",
       "    </tr>\n",
       "    <tr>\n",
       "      <th>5023</th>\n",
       "      <td>hook shot</td>\n",
       "      <td>EURO</td>\n",
       "      <td>C</td>\n",
       "      <td>0</td>\n",
       "      <td>1</td>\n",
       "      <td>no</td>\n",
       "      <td>2.13</td>\n",
       "      <td>1.44</td>\n",
       "    </tr>\n",
       "  </tbody>\n",
       "</table>\n",
       "<p>5024 rows × 8 columns</p>\n",
       "</div>"
      ],
      "text/plain": [
       "        ShotType Competition PlayerType  Transition  TwoLegged Movement  \\\n",
       "0     above head         U14          F           1          1       no   \n",
       "1          layup         U14          F           0          1       no   \n",
       "2     above head         U14          F           0          1       no   \n",
       "3     above head         U14          F           1          1       no   \n",
       "4     above head         U14          F           0          1       no   \n",
       "...          ...         ...        ...         ...        ...      ...   \n",
       "5019       layup        EURO          C           0          1       no   \n",
       "5020  above head        EURO          C           0          1       no   \n",
       "5021   hook shot        EURO          C           0          1       no   \n",
       "5022  above head        EURO          C           0          1       no   \n",
       "5023   hook shot        EURO          C           0          1       no   \n",
       "\n",
       "      Angle  Distance  \n",
       "0     73.83      0.73  \n",
       "1     28.13      1.02  \n",
       "2     51.88      7.22  \n",
       "3     80.84      3.64  \n",
       "4     30.89      7.20  \n",
       "...     ...       ...  \n",
       "5019   0.00      0.52  \n",
       "5020  60.91      4.29  \n",
       "5021  26.86      0.83  \n",
       "5022   3.42      5.38  \n",
       "5023   2.13      1.44  \n",
       "\n",
       "[5024 rows x 8 columns]"
      ]
     },
     "execution_count": 3,
     "metadata": {},
     "output_type": "execute_result"
    }
   ],
   "source": [
    "data = pd.read_csv('dataset.csv', sep=';')\n",
    "data"
   ]
  },
  {
   "cell_type": "code",
   "execution_count": 4,
   "metadata": {},
   "outputs": [],
   "source": [
    "one_hot = pd.get_dummies(data[[\"Competition\", \"PlayerType\", \"Movement\"]], drop_first=True)\n",
    "data = pd.concat([data, one_hot], axis=1)\n",
    "data = data.drop([\"Competition\", \"PlayerType\", \"Movement\"], axis=1)"
   ]
  },
  {
   "cell_type": "code",
   "execution_count": 5,
   "metadata": {},
   "outputs": [],
   "source": [
    "data[\"Transition\"] = data[\"Transition\"].astype(bool)\n",
    "data[\"TwoLegged\"] = data[\"TwoLegged\"].astype(bool)"
   ]
  },
  {
   "cell_type": "code",
   "execution_count": 6,
   "metadata": {},
   "outputs": [
    {
     "data": {
      "text/plain": [
       "ShotType             object\n",
       "Transition             bool\n",
       "TwoLegged              bool\n",
       "Angle               float64\n",
       "Distance            float64\n",
       "Competition_NBA        bool\n",
       "Competition_SLO1       bool\n",
       "Competition_U14        bool\n",
       "Competition_U16        bool\n",
       "PlayerType_F           bool\n",
       "PlayerType_G           bool\n",
       "Movement_drive         bool\n",
       "Movement_no            bool\n",
       "dtype: object"
      ]
     },
     "execution_count": 6,
     "metadata": {},
     "output_type": "execute_result"
    }
   ],
   "source": [
    "data.dtypes"
   ]
  },
  {
   "cell_type": "code",
   "execution_count": 7,
   "metadata": {},
   "outputs": [],
   "source": [
    "column_names = data.columns[1:]\n",
    "shot_types = np.unique(data[\"ShotType\"])"
   ]
  },
  {
   "cell_type": "code",
   "execution_count": 8,
   "metadata": {},
   "outputs": [],
   "source": [
    "data[\"ShotType\"] = data[\"ShotType\"].astype(\"category\")\n",
    "data[\"ShotType\"] = data[\"ShotType\"].cat.codes"
   ]
  },
  {
   "cell_type": "code",
   "execution_count": 9,
   "metadata": {},
   "outputs": [],
   "source": [
    "X_train, X_test, y_train, y_test = skms.train_test_split(data.drop(labels=\"ShotType\", axis='columns'), data[\"ShotType\"], test_size=0.2, random_state=42)"
   ]
  },
  {
   "cell_type": "code",
   "execution_count": 10,
   "metadata": {},
   "outputs": [],
   "source": [
    "#scale the data\n",
    "\n",
    "scaler = preprocessing.StandardScaler().fit(X_train)\n",
    "X_train = scaler.transform(X_train)\n",
    "\n",
    "scaler = preprocessing.StandardScaler().fit(X_test)\n",
    "X_test = scaler.transform(X_test)\n",
    "\n"
   ]
  },
  {
   "cell_type": "code",
   "execution_count": 11,
   "metadata": {},
   "outputs": [],
   "source": [
    "X_train = X_train.astype(np.float64)\n",
    "X_test = X_test.astype(np.float64)\n",
    "y_train = y_train.astype(int)\n",
    "y_test = y_test.astype(int)\n"
   ]
  },
  {
   "cell_type": "code",
   "execution_count": 13,
   "metadata": {},
   "outputs": [
    {
     "name": "stdout",
     "output_type": "stream",
     "text": [
      "13\n"
     ]
    },
    {
     "data": {
      "text/plain": [
       "<solution.MultinomialLogReg at 0x7f0bd6a9a5b0>"
      ]
     },
     "execution_count": 13,
     "metadata": {},
     "output_type": "execute_result"
    }
   ],
   "source": [
    "l = solution.MultinomialLogReg()\n",
    "l.build(X_train, y_train)\n",
    "\n"
   ]
  },
  {
   "cell_type": "code",
   "execution_count": 14,
   "metadata": {},
   "outputs": [],
   "source": [
    "def lower_upper(X, y, num_bootstrap = 100, alpha = 0.05):\n",
    "    coef_samples = np.zeros((  num_bootstrap, X.shape[1]+1, len(np.unique(y))))\n",
    "\n",
    "    l = solution.MultinomialLogReg()\n",
    "    for i in range(num_bootstrap):\n",
    "        print(i)\n",
    "        X_train, y_train = resample(X, y, replace=True)\n",
    "        l.build(X_train, y_train)\n",
    "        coef_samples[i, :, :] = l.coefficients\n",
    "        print(coef_samples[i, :, :])\n",
    "    \n",
    "    return coef_samples"
   ]
  },
  {
   "cell_type": "code",
   "execution_count": 15,
   "metadata": {},
   "outputs": [],
   "source": [
    "\n",
    "coefs = np.loadtxt(\"coefs.csv\", delimiter=\",\")\n",
    "shape = np.loadtxt(\"shape.txt\", delimiter=\",\")\n",
    "coefs = coefs.reshape(shape.astype(int))\n",
    "means = np.mean(coefs[:, 1:, :], axis=0)\n",
    "sds = np.std(coefs[:, 1:, :], axis=0)\n",
    "\n",
    "fig, ax = plt.subplots(len(np.unique(y_train)), 1, figsize=(10, 30))\n",
    "\n",
    "for i in range(len(np.unique(y_train))):\n",
    "    ax[i].bar(np.arange(means.shape[0]), means[:, i])\n",
    "    ax[i].errorbar(np.arange(means.shape[0]), means[:, i], yerr=sds[ :, i], fmt='none', capsize=4, ecolor = 'orange')\n",
    "    ax[i].set_title(f\"Class \\\"{shot_types[i]}\\\"\")\n",
    "    ax[i].set_xticks(np.arange(means.shape[0]))\n",
    "    ax[i].set_xticklabels(column_names, rotation=90, size= 10)\n",
    "\n",
    "plt.tight_layout()\n",
    "plt.savefig(\"report/figures/coefficients.pdf\")"
   ]
  },
  {
   "cell_type": "code",
   "execution_count": 16,
   "metadata": {},
   "outputs": [
    {
     "data": {
      "text/html": [
       "<style>#sk-container-id-1 {color: black;}#sk-container-id-1 pre{padding: 0;}#sk-container-id-1 div.sk-toggleable {background-color: white;}#sk-container-id-1 label.sk-toggleable__label {cursor: pointer;display: block;width: 100%;margin-bottom: 0;padding: 0.3em;box-sizing: border-box;text-align: center;}#sk-container-id-1 label.sk-toggleable__label-arrow:before {content: \"▸\";float: left;margin-right: 0.25em;color: #696969;}#sk-container-id-1 label.sk-toggleable__label-arrow:hover:before {color: black;}#sk-container-id-1 div.sk-estimator:hover label.sk-toggleable__label-arrow:before {color: black;}#sk-container-id-1 div.sk-toggleable__content {max-height: 0;max-width: 0;overflow: hidden;text-align: left;background-color: #f0f8ff;}#sk-container-id-1 div.sk-toggleable__content pre {margin: 0.2em;color: black;border-radius: 0.25em;background-color: #f0f8ff;}#sk-container-id-1 input.sk-toggleable__control:checked~div.sk-toggleable__content {max-height: 200px;max-width: 100%;overflow: auto;}#sk-container-id-1 input.sk-toggleable__control:checked~label.sk-toggleable__label-arrow:before {content: \"▾\";}#sk-container-id-1 div.sk-estimator input.sk-toggleable__control:checked~label.sk-toggleable__label {background-color: #d4ebff;}#sk-container-id-1 div.sk-label input.sk-toggleable__control:checked~label.sk-toggleable__label {background-color: #d4ebff;}#sk-container-id-1 input.sk-hidden--visually {border: 0;clip: rect(1px 1px 1px 1px);clip: rect(1px, 1px, 1px, 1px);height: 1px;margin: -1px;overflow: hidden;padding: 0;position: absolute;width: 1px;}#sk-container-id-1 div.sk-estimator {font-family: monospace;background-color: #f0f8ff;border: 1px dotted black;border-radius: 0.25em;box-sizing: border-box;margin-bottom: 0.5em;}#sk-container-id-1 div.sk-estimator:hover {background-color: #d4ebff;}#sk-container-id-1 div.sk-parallel-item::after {content: \"\";width: 100%;border-bottom: 1px solid gray;flex-grow: 1;}#sk-container-id-1 div.sk-label:hover label.sk-toggleable__label {background-color: #d4ebff;}#sk-container-id-1 div.sk-serial::before {content: \"\";position: absolute;border-left: 1px solid gray;box-sizing: border-box;top: 0;bottom: 0;left: 50%;z-index: 0;}#sk-container-id-1 div.sk-serial {display: flex;flex-direction: column;align-items: center;background-color: white;padding-right: 0.2em;padding-left: 0.2em;position: relative;}#sk-container-id-1 div.sk-item {position: relative;z-index: 1;}#sk-container-id-1 div.sk-parallel {display: flex;align-items: stretch;justify-content: center;background-color: white;position: relative;}#sk-container-id-1 div.sk-item::before, #sk-container-id-1 div.sk-parallel-item::before {content: \"\";position: absolute;border-left: 1px solid gray;box-sizing: border-box;top: 0;bottom: 0;left: 50%;z-index: -1;}#sk-container-id-1 div.sk-parallel-item {display: flex;flex-direction: column;z-index: 1;position: relative;background-color: white;}#sk-container-id-1 div.sk-parallel-item:first-child::after {align-self: flex-end;width: 50%;}#sk-container-id-1 div.sk-parallel-item:last-child::after {align-self: flex-start;width: 50%;}#sk-container-id-1 div.sk-parallel-item:only-child::after {width: 0;}#sk-container-id-1 div.sk-dashed-wrapped {border: 1px dashed gray;margin: 0 0.4em 0.5em 0.4em;box-sizing: border-box;padding-bottom: 0.4em;background-color: white;}#sk-container-id-1 div.sk-label label {font-family: monospace;font-weight: bold;display: inline-block;line-height: 1.2em;}#sk-container-id-1 div.sk-label-container {text-align: center;}#sk-container-id-1 div.sk-container {/* jupyter's `normalize.less` sets `[hidden] { display: none; }` but bootstrap.min.css set `[hidden] { display: none !important; }` so we also need the `!important` here to be able to override the default hidden behavior on the sphinx rendered scikit-learn.org. See: https://github.com/scikit-learn/scikit-learn/issues/21755 */display: inline-block !important;position: relative;}#sk-container-id-1 div.sk-text-repr-fallback {display: none;}</style><div id=\"sk-container-id-1\" class=\"sk-top-container\"><div class=\"sk-text-repr-fallback\"><pre>LogisticRegression(max_iter=1000, multi_class=&#x27;multinomial&#x27;)</pre><b>In a Jupyter environment, please rerun this cell to show the HTML representation or trust the notebook. <br />On GitHub, the HTML representation is unable to render, please try loading this page with nbviewer.org.</b></div><div class=\"sk-container\" hidden><div class=\"sk-item\"><div class=\"sk-estimator sk-toggleable\"><input class=\"sk-toggleable__control sk-hidden--visually\" id=\"sk-estimator-id-1\" type=\"checkbox\" checked><label for=\"sk-estimator-id-1\" class=\"sk-toggleable__label sk-toggleable__label-arrow\">LogisticRegression</label><div class=\"sk-toggleable__content\"><pre>LogisticRegression(max_iter=1000, multi_class=&#x27;multinomial&#x27;)</pre></div></div></div></div></div>"
      ],
      "text/plain": [
       "LogisticRegression(max_iter=1000, multi_class='multinomial')"
      ]
     },
     "execution_count": 16,
     "metadata": {},
     "output_type": "execute_result"
    }
   ],
   "source": [
    "l_scikit = sklm.LogisticRegression(multi_class='multinomial', solver='lbfgs', max_iter=1000)\n",
    "l_scikit.fit(X_train, y_train)\n"
   ]
  },
  {
   "cell_type": "code",
   "execution_count": 17,
   "metadata": {},
   "outputs": [
    {
     "data": {
      "text/plain": [
       "1504     True\n",
       "538      True\n",
       "4989     True\n",
       "4949     True\n",
       "4820     True\n",
       "        ...  \n",
       "2244     True\n",
       "1592     True\n",
       "4655    False\n",
       "3973     True\n",
       "150     False\n",
       "Name: ShotType, Length: 1005, dtype: bool"
      ]
     },
     "execution_count": 17,
     "metadata": {},
     "output_type": "execute_result"
    }
   ],
   "source": [
    "preds = l.predict(X_test)\n",
    "preds = np.argmax(preds, axis=1)\n",
    "preds = preds == y_test\n",
    "preds"
   ]
  },
  {
   "cell_type": "code",
   "execution_count": 18,
   "metadata": {},
   "outputs": [
    {
     "data": {
      "text/plain": [
       "1504     True\n",
       "538      True\n",
       "4989     True\n",
       "4949     True\n",
       "4820     True\n",
       "        ...  \n",
       "2244     True\n",
       "1592     True\n",
       "4655    False\n",
       "3973     True\n",
       "150     False\n",
       "Name: ShotType, Length: 1005, dtype: bool"
      ]
     },
     "execution_count": 18,
     "metadata": {},
     "output_type": "execute_result"
    }
   ],
   "source": [
    "preds_scikit = l_scikit.predict(X_test)\n",
    "preds_scikit = preds_scikit == y_test\n",
    "preds_scikit"
   ]
  },
  {
   "cell_type": "code",
   "execution_count": 19,
   "metadata": {},
   "outputs": [
    {
     "data": {
      "text/plain": [
       "0.7383084577114428"
      ]
     },
     "execution_count": 19,
     "metadata": {},
     "output_type": "execute_result"
    }
   ],
   "source": [
    "accuracy = np.mean(preds)\n",
    "accuracy"
   ]
  },
  {
   "cell_type": "code",
   "execution_count": 20,
   "metadata": {},
   "outputs": [
    {
     "data": {
      "text/plain": [
       "0.7393034825870647"
      ]
     },
     "execution_count": 20,
     "metadata": {},
     "output_type": "execute_result"
    }
   ],
   "source": [
    "accuracy_scikit = np.mean(preds_scikit)\n",
    "accuracy_scikit"
   ]
  },
  {
   "cell_type": "code",
   "execution_count": 26,
   "metadata": {},
   "outputs": [],
   "source": [
    "MBOG_TRAIN = 50\n",
    "\n",
    "def multinomial_bad_ordinal_good(n):\n",
    "    X = np.random.normal(loc= 0, scale=1, size=(n, 12))\n",
    "    y = np.random.randint(0, 3, size=n)\n",
    "\n",
    "    return X, y\n"
   ]
  },
  {
   "cell_type": "code",
   "execution_count": 27,
   "metadata": {},
   "outputs": [
    {
     "name": "stdout",
     "output_type": "stream",
     "text": [
      "13\n"
     ]
    }
   ],
   "source": [
    "X, y = multinomial_bad_ordinal_good(MBOG_TRAIN)\n",
    "X_test, y_test = multinomial_bad_ordinal_good(1000)\n",
    "\n",
    "l = solution.MultinomialLogReg()\n",
    "l.build(X, y)\n",
    "\n",
    "pred = l.predict(X_test)\n",
    "# pred = np.argmax(pred, axis=1)"
   ]
  },
  {
   "cell_type": "code",
   "execution_count": 29,
   "metadata": {},
   "outputs": [
    {
     "data": {
      "text/plain": [
       "(1.7084235465825106, 1.4331031900374998)"
      ]
     },
     "execution_count": 29,
     "metadata": {},
     "output_type": "execute_result"
    }
   ],
   "source": [
    "\n",
    "o = solution.OrdinalLogReg()\n",
    "o.build(X, y)\n",
    "pred_o = o.predict(X_test)\n",
    "\n",
    "l_loss = log_loss(y_test, l.predict(X_test))\n",
    "o_loss = log_loss(y_test, o.predict(X_test))\n",
    "\n",
    "print(l_loss, o_loss)"
   ]
  },
  {
   "cell_type": "code",
   "execution_count": 30,
   "metadata": {},
   "outputs": [
    {
     "name": "stdout",
     "output_type": "stream",
     "text": [
      "0.323\n",
      "0.339\n"
     ]
    }
   ],
   "source": [
    "#accuracy\n",
    "pred = np.argmax(pred, axis=1)\n",
    "pred_o = np.argmax(pred_o, axis=1)\n",
    "\n",
    "accuracy = np.mean(pred == y_test)\n",
    "print(accuracy)\n",
    "\n",
    "accuracy_o = np.mean(pred_o == y_test)\n",
    "print(accuracy_o)\n"
   ]
  }
 ],
 "metadata": {
  "kernelspec": {
   "display_name": "mlds",
   "language": "python",
   "name": "python3"
  },
  "language_info": {
   "codemirror_mode": {
    "name": "ipython",
    "version": 3
   },
   "file_extension": ".py",
   "mimetype": "text/x-python",
   "name": "python",
   "nbconvert_exporter": "python",
   "pygments_lexer": "ipython3",
   "version": "3.8.19"
  }
 },
 "nbformat": 4,
 "nbformat_minor": 2
}
